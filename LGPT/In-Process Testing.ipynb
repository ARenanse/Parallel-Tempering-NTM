{
 "cells": [
  {
   "cell_type": "markdown",
   "metadata": {},
   "source": [
    "# TESTING"
   ]
  },
  {
   "cell_type": "code",
   "execution_count": 1,
   "metadata": {},
   "outputs": [],
   "source": [
    "from LGPT import PTReplicaMetaBase\n",
    "from PTReplica import BasicModel\n",
    "\n",
    "import copy\n",
    "import numpy as np"
   ]
  },
  {
   "cell_type": "code",
   "execution_count": 2,
   "metadata": {},
   "outputs": [],
   "source": [
    "import torch"
   ]
  },
  {
   "cell_type": "markdown",
   "metadata": {},
   "source": [
    "Making small Training Data"
   ]
  },
  {
   "cell_type": "code",
   "execution_count": 3,
   "metadata": {},
   "outputs": [],
   "source": [
    "train = torch.tensor([[1,2,3,10],[4,5,6,10],[7,8,9,10],[11,12,13,10],[14,15,16,10]], dtype = torch.float)\n",
    "test = torch.tensor([[17,18,19,10],[20,21,22,10],[23,24,25,10]], dtype = torch.float)"
   ]
  },
  {
   "cell_type": "code",
   "execution_count": 4,
   "metadata": {},
   "outputs": [
    {
     "data": {
      "text/plain": [
       "tensor([[ 1.,  2.,  3., 10.],\n",
       "        [ 4.,  5.,  6., 10.],\n",
       "        [ 7.,  8.,  9., 10.],\n",
       "        [11., 12., 13., 10.],\n",
       "        [14., 15., 16., 10.]])"
      ]
     },
     "execution_count": 4,
     "metadata": {},
     "output_type": "execute_result"
    }
   ],
   "source": [
    "train"
   ]
  },
  {
   "cell_type": "code",
   "execution_count": 5,
   "metadata": {},
   "outputs": [
    {
     "data": {
      "text/plain": [
       "tensor([[17., 18., 19., 10.],\n",
       "        [20., 21., 22., 10.],\n",
       "        [23., 24., 25., 10.]])"
      ]
     },
     "execution_count": 5,
     "metadata": {},
     "output_type": "execute_result"
    }
   ],
   "source": [
    "test"
   ]
  },
  {
   "cell_type": "code",
   "execution_count": 6,
   "metadata": {},
   "outputs": [],
   "source": [
    "obj = BasicModel(3,5,1,20000,0.6,700,True,0.5,train,test,0.001,0.025)"
   ]
  },
  {
   "cell_type": "code",
   "execution_count": 7,
   "metadata": {},
   "outputs": [
    {
     "data": {
      "text/plain": [
       "tensor(101.0318, grad_fn=<MseLossBackward>)"
      ]
     },
     "execution_count": 7,
     "metadata": {},
     "output_type": "execute_result"
    }
   ],
   "source": [
    "obj.GiveMeTheLoss()"
   ]
  },
  {
   "cell_type": "code",
   "execution_count": 8,
   "metadata": {},
   "outputs": [
    {
     "data": {
      "text/plain": [
       "[array([1.39311921]), array([4.02739278]), 25, 0, 0]"
      ]
     },
     "execution_count": 8,
     "metadata": {},
     "output_type": "execute_result"
    }
   ],
   "source": [
    "misclist = obj.ProposeMiscParameters()\n",
    "misclist"
   ]
  },
  {
   "cell_type": "code",
   "execution_count": 9,
   "metadata": {},
   "outputs": [],
   "source": [
    "paramlist = []\n",
    "for param in obj.Model.parameters():\n",
    "    paramlist.append(param.clone())"
   ]
  },
  {
   "cell_type": "code",
   "execution_count": 10,
   "metadata": {
    "scrolled": true
   },
   "outputs": [
    {
     "data": {
      "text/plain": [
       "[tensor([[-0.0232,  0.4645,  0.5606],\n",
       "         [-0.0722,  0.0759, -0.1315],\n",
       "         [-0.0883, -0.2177,  0.4563],\n",
       "         [ 0.5104,  0.1203,  0.3230],\n",
       "         [ 0.1458,  0.4790,  0.3175]], grad_fn=<CloneBackward>),\n",
       " tensor([ 0.1046, -0.4929, -0.4071,  0.3203, -0.0728], grad_fn=<CloneBackward>),\n",
       " tensor([[ 0.3903,  0.3653,  0.2202, -0.3281, -0.1161]],\n",
       "        grad_fn=<CloneBackward>),\n",
       " tensor([-0.2410], grad_fn=<CloneBackward>)]"
      ]
     },
     "execution_count": 10,
     "metadata": {},
     "output_type": "execute_result"
    }
   ],
   "source": [
    "paramlist"
   ]
  },
  {
   "cell_type": "code",
   "execution_count": 11,
   "metadata": {},
   "outputs": [
    {
     "name": "stdout",
     "output_type": "stream",
     "text": [
      "Sum of squares of the weights:  tensor(2.5942)\n"
     ]
    },
    {
     "data": {
      "text/plain": [
       "tensor(2.5942)"
      ]
     },
     "execution_count": 11,
     "metadata": {},
     "output_type": "execute_result"
    }
   ],
   "source": [
    "obj.SumTheSquareWeights(paramlist)"
   ]
  },
  {
   "cell_type": "code",
   "execution_count": 12,
   "metadata": {},
   "outputs": [
    {
     "name": "stdout",
     "output_type": "stream",
     "text": [
      "Sum of squares of the weights:  tensor(2.5942)\n",
      "logprob_part1:  tensor(-55.6762)\n",
      "logprob_part2:  [1.39311921]\n"
     ]
    },
    {
     "data": {
      "text/plain": [
       "(tensor([-57.0693], dtype=torch.float64), [None])"
      ]
     },
     "execution_count": 12,
     "metadata": {},
     "output_type": "execute_result"
    }
   ],
   "source": [
    "obj.PriorLikelihood(misclist, paramlist)"
   ]
  },
  {
   "cell_type": "code",
   "execution_count": null,
   "metadata": {
    "scrolled": true
   },
   "outputs": [],
   "source": [
    "Samples, accepts = obj.Runner()\n",
    "print(accepts)"
   ]
  },
  {
   "cell_type": "markdown",
   "metadata": {},
   "source": [
    "## Not showing above's output cause it's large. :)"
   ]
  },
  {
   "cell_type": "code",
   "execution_count": 14,
   "metadata": {},
   "outputs": [
    {
     "data": {
      "text/plain": [
       "{'0.weight': tensor([[-0.0696,  0.4344,  0.5595],\n",
       "         [-0.0914,  0.0888, -0.1211],\n",
       "         [-0.0934, -0.2502,  0.4802],\n",
       "         [ 0.4763,  0.1254,  0.3631],\n",
       "         [ 0.1140,  0.4516,  0.2976]], dtype=torch.float64),\n",
       " '0.bias': tensor([ 0.1252, -0.4840, -0.3932,  0.3156, -0.0615], dtype=torch.float64),\n",
       " '2.weight': tensor([[ 0.3757,  0.3531,  0.2324, -0.3094, -0.0939]], dtype=torch.float64),\n",
       " '2.bias': tensor([-0.2334], dtype=torch.float64)}"
      ]
     },
     "execution_count": 14,
     "metadata": {},
     "output_type": "execute_result"
    }
   ],
   "source": [
    "Samples[0]"
   ]
  },
  {
   "cell_type": "code",
   "execution_count": 15,
   "metadata": {},
   "outputs": [
    {
     "data": {
      "text/plain": [
       "{'0.weight': tensor([[-1.4432e-01, -4.5193e-01,  1.7975e-01],\n",
       "         [ 2.1833e-01, -1.9691e-02,  4.6423e-01],\n",
       "         [ 5.3463e-01,  3.9423e-01,  5.2723e-04],\n",
       "         [ 5.4796e-01,  4.1294e-01,  4.7753e-01],\n",
       "         [-5.0680e-01, -5.0997e-01,  4.4397e-01],\n",
       "         [ 3.4782e-01, -3.0222e-01, -1.3735e-01],\n",
       "         [ 3.5434e-01, -4.2677e-01,  2.9803e-01],\n",
       "         [-4.1536e-01, -2.2093e-01,  4.0752e-01],\n",
       "         [ 1.1374e-01,  3.0748e-01,  1.1178e-01],\n",
       "         [-8.1119e-02, -1.4849e-01,  4.2945e-01],\n",
       "         [ 3.5091e-02, -2.3392e-01, -1.3645e-01],\n",
       "         [-5.6785e-01,  9.8233e-02,  1.5259e-01],\n",
       "         [ 3.1369e-01, -2.0974e-01, -8.6712e-02],\n",
       "         [-3.5560e-02, -1.8815e-01, -4.4735e-01],\n",
       "         [-5.4250e-01, -4.3838e-01, -2.6480e-01],\n",
       "         [ 4.5606e-01,  5.9339e-01, -4.5582e-01],\n",
       "         [ 5.4662e-01, -4.4814e-01,  4.6402e-01],\n",
       "         [ 4.9539e-01, -2.8447e-01,  5.4138e-01],\n",
       "         [ 6.0224e-02,  6.1831e-02,  7.9445e-02],\n",
       "         [ 3.9757e-01,  1.5372e-01,  4.0190e-01]], grad_fn=<CloneBackward>),\n",
       " '0.bias': tensor([ 0.1273,  0.5416,  0.0580,  0.2504,  0.2513, -0.0953, -0.2787, -0.2372,\n",
       "          0.2342,  0.5523,  0.1669, -0.4312,  0.2744, -0.5406, -0.1425,  0.5283,\n",
       "         -0.3050, -0.2392,  0.5084, -0.1417], grad_fn=<CloneBackward>),\n",
       " '2.weight': tensor([[ 0.1154,  0.0143, -0.0524, -0.0871,  0.2162, -0.1569, -0.1341, -0.0657,\n",
       "          -0.0109, -0.1993,  0.2668, -0.1626,  0.0770,  0.0351,  0.0712, -0.1798,\n",
       "           0.0028,  0.1954,  0.2176,  0.0114]], grad_fn=<CloneBackward>),\n",
       " '2.bias': tensor([-0.1926], grad_fn=<CloneBackward>)}"
      ]
     },
     "execution_count": 15,
     "metadata": {},
     "output_type": "execute_result"
    }
   ],
   "source": [
    "Samples[1]"
   ]
  },
  {
   "cell_type": "code",
   "execution_count": null,
   "metadata": {},
   "outputs": [],
   "source": []
  }
 ],
 "metadata": {
  "kernelspec": {
   "display_name": "Python 3",
   "language": "python",
   "name": "python3"
  },
  "language_info": {
   "codemirror_mode": {
    "name": "ipython",
    "version": 3
   },
   "file_extension": ".py",
   "mimetype": "text/x-python",
   "name": "python",
   "nbconvert_exporter": "python",
   "pygments_lexer": "ipython3",
   "version": "3.7.4"
  }
 },
 "nbformat": 4,
 "nbformat_minor": 4
}
